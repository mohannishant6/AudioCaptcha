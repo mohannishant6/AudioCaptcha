{
 "cells": [
  {
   "cell_type": "code",
   "execution_count": 2,
   "metadata": {},
   "outputs": [],
   "source": [
    "from shutil import copyfile\n",
    "import pandas as pd\n",
    "import numpy as np\n",
    "import os\n",
    "\n",
    "src_dir = \"C:/Users/nishant/Documents/scalable/mutli_tts/showdown/\"\n",
    "\n",
    "for i,item in enumerate(os.listdir(src_dir+\"test_audios\")):\n",
    "    if i%4==0:\n",
    "        copyfile(src_dir+\"test_audios/\"+item,src_dir+\"f1 aud/\"+item)\n",
    "    elif i%4==1:\n",
    "        copyfile(src_dir+\"test_audios/\"+item,src_dir+\"f2 aud/\"+item)\n",
    "    elif i%4==2:\n",
    "        copyfile(src_dir+\"test_audios/\"+item,src_dir+\"f3 aud/\"+item)\n",
    "    else:\n",
    "        copyfile(src_dir+\"test_audios/\"+item,src_dir+\"f4 aud/\"+item)"
   ]
  },
  {
   "cell_type": "code",
   "execution_count": null,
   "metadata": {},
   "outputs": [],
   "source": [
    "#### 4 spects on cmd\n",
    "\n",
    "python \"C:/Users/nishant/Documents/scalable/mutli_tts/showdown/sep1.py\"\n",
    "python \"C:/Users/nishant/Documents/scalable/mutli_tts/showdown/sep2.py\"\n",
    "python \"C:/Users/nishant/Documents/scalable/mutli_tts/showdown/sep3.py\"\n",
    "python \"C:/Users/nishant/Documents/scalable/mutli_tts/showdown/sep4.py\""
   ]
  },
  {
   "cell_type": "code",
   "execution_count": 3,
   "metadata": {},
   "outputs": [],
   "source": [
    "#combine to one folder\n",
    "for i in [1,2,3,4]:\n",
    "    l = os.listdir(src_dir+\"f\"+str(i)+\" spects\")\n",
    "    for j in l:\n",
    "        os.rename(src_dir+\"f\"+str(i)+\" spects/\"+j,src_dir+\"all spects/\"+j)"
   ]
  },
  {
   "cell_type": "code",
   "execution_count": null,
   "metadata": {},
   "outputs": [],
   "source": [
    "### classify.py in cmd\n",
    "\n",
    "python classify.py  --model-name test.h5 --captcha-dir \"all spects\" --output stuff.txt --symbols symbols.txt"
   ]
  },
  {
   "cell_type": "code",
   "execution_count": 7,
   "metadata": {},
   "outputs": [
    {
     "data": {
      "text/plain": [
       "'done'"
      ]
     },
     "execution_count": 7,
     "metadata": {},
     "output_type": "execute_result"
    }
   ],
   "source": [
    "def sort_stuff(file,audios_path):\n",
    "    df = pd.read_csv(file, header = None)\n",
    "    df.columns = ['col1','col2']\n",
    "    df['name'] = df['col1'].map(lambda x: x.split(\"_\")[0])\n",
    "    df2 = df.groupby('name')['col2'].apply(lambda x: x.sum()).reset_index()\n",
    "    df2['col2']=df2['col2'].str.replace(\" \",\"\")\n",
    "    df2['prob flag'] = np.where(df2['col2'].str.len() != 8, 1 , 0)\n",
    "    df2['link'] = audios_path + df2['name'] + '.mp3'\n",
    "    df2.to_csv(file.replace(\".txt\",\"\")+\"_merged.csv\", header = None, index = False)\n",
    "    return \"done\"\n",
    "\n",
    "sort_stuff(file = src_dir+\"stuff.txt\"\n",
    "          , audios_path = src_dir+\"test_audios/\")"
   ]
  }
 ],
 "metadata": {
  "kernelspec": {
   "display_name": "Python 3",
   "language": "python",
   "name": "python3"
  },
  "language_info": {
   "codemirror_mode": {
    "name": "ipython",
    "version": 3
   },
   "file_extension": ".py",
   "mimetype": "text/x-python",
   "name": "python",
   "nbconvert_exporter": "python",
   "pygments_lexer": "ipython3",
   "version": "3.6.5"
  }
 },
 "nbformat": 4,
 "nbformat_minor": 2
}
